{
 "cells": [
  {
   "cell_type": "code",
   "execution_count": 1,
   "metadata": {},
   "outputs": [
    {
     "name": "stdout",
     "output_type": "stream",
     "text": [
      "['고속도로', '휴게소에', '도입', '가능한', '창업', '아이템', '보유', '청년', '창업자를', '발굴하여', '청년실업', '해소와', '휴게문화', '창출에', '기여하기', '위해', '곤양', '순천', '졸음쉼터', '푸드트럭', '공간을', '지원해', '드립니다', '한국도로공사가', '관리하고', '있는', '고속도로', '휴게소', '매장에서', '창업이', '가능한', '우수', '아이템', '보유', '창업자', '곤양', '순천', '졸음쉼터에', '적용가능한', '간식', '식사류', '판매', '공간', '지원']\n"
     ]
    }
   ],
   "source": [
    "import re\n",
    "\n",
    "p = re.compile('[가-힣]+');\n",
    "string = '<p style=\"margin: 0px\">고속도로 휴게소에 도입 가능한 창업 아이템 보유 청년 창업자를 발굴하여&nbsp;청년실업 해소와 휴게문화 창출에 기여하기 위해 곤양(순천)졸음쉼터 푸드트럭 공간을 지원해 드립니다.&nbsp;</p> <p style=\"margin: 0px\"><br />☞ 한국도로공사가 관리하고 있는 고속도로 휴게소 매장에서 창업이 가능한 우수 아이템 보유 창업자<br />&nbsp;<br />☞ 곤양(순천)졸음쉼터에 적용가능한 간식ㆍ식사류 판매 공간&nbsp;지원</p>';\n",
    "result = p.findall(string);\n",
    "print(result);"
   ]
  },
  {
   "cell_type": "code",
   "execution_count": null,
   "metadata": {},
   "outputs": [],
   "source": []
  }
 ],
 "metadata": {
  "kernelspec": {
   "display_name": "Python 3",
   "language": "python",
   "name": "python3"
  },
  "language_info": {
   "codemirror_mode": {
    "name": "ipython",
    "version": 3
   },
   "file_extension": ".py",
   "mimetype": "text/x-python",
   "name": "python",
   "nbconvert_exporter": "python",
   "pygments_lexer": "ipython3",
   "version": "3.7.4"
  }
 },
 "nbformat": 4,
 "nbformat_minor": 2
}
