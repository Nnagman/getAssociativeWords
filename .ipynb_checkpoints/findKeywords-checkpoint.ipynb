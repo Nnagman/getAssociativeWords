{
 "cells": [
  {
   "cell_type": "code",
   "execution_count": 18,
   "metadata": {},
   "outputs": [
    {
     "name": "stdout",
     "output_type": "stream",
     "text": [
      "['고속도로', '휴게소에', '도입', '가능한', '창업', '아이템', '보유', '청년', '창업자를', '발굴하여', '청년실업', '해소와', '휴게문화', '창출에', '기여하기', '위해', '곤양', '순천', '졸음쉼터', '푸드트럭', '공간을', '지원해', '드립니다', '한국도로공사가', '관리하고', '있는', '고속도로', '휴게소', '매장에서', '창업이', '가능한', '우수', '아이템', '보유', '창업자', '곤양', '순천', '졸음쉼터에', '적용가능한', '간식', '식사류', '판매', '공간', '지원']\n",
      "고속도로\n",
      "휴게소에\n",
      "도입\n",
      "가능한\n",
      "창업\n",
      "아이템\n",
      "보유\n",
      "청년\n",
      "창업자를\n",
      "발굴하여\n",
      "청년실업\n",
      "해소와\n",
      "휴게문화\n",
      "창출에\n",
      "기여하기\n",
      "위해\n",
      "곤양\n",
      "순천\n",
      "졸음쉼터\n",
      "푸드트럭\n",
      "공간을\n",
      "지원해\n",
      "드립니다\n",
      "국도로공사가\n",
      "관리하고\n",
      "있는\n",
      "고속도로\n",
      "휴게소\n",
      "매장에서\n",
      "창업이\n",
      "가능한\n",
      "우수\n",
      "아이템\n",
      "보유\n",
      "창업자\n",
      "곤양\n",
      "순천\n",
      "졸음쉼터에\n",
      "적용가능한\n",
      "간식\n",
      "식사류\n",
      "판매\n",
      "공간\n",
      "지원\n"
     ]
    }
   ],
   "source": [
    "import re\n",
    "\n",
    "p = re.compile('[가-힣]+');\n",
    "string = '<p style=\"margin: 0px\">고속도로 휴게소에 도입 가능한 창업 아이템 보유 청년 창업자를 발굴하여&nbsp;청년실업 해소와 휴게문화 창출에 기여하기 위해 곤양(순천)졸음쉼터 푸드트럭 공간을 지원해 드립니다.&nbsp;</p> <p style=\"margin: 0px\"><br />☞ 한국도로공사가 관리하고 있는 고속도로 휴게소 매장에서 창업이 가능한 우수 아이템 보유 창업자<br />&nbsp;<br />☞ 곤양(순천)졸음쉼터에 적용가능한 간식ㆍ식사류 판매 공간&nbsp;지원</p>';\n",
    "result = p.findall(string);\n",
    "print(result);"
   ]
  },
  {
   "cell_type": "code",
   "execution_count": null,
   "metadata": {},
   "outputs": [],
   "source": []
  }
 ],
 "metadata": {
  "kernelspec": {
   "display_name": "Python 3",
   "language": "python",
   "name": "python3"
  },
  "language_info": {
   "codemirror_mode": {
    "name": "ipython",
    "version": 3
   },
   "file_extension": ".py",
   "mimetype": "text/x-python",
   "name": "python",
   "nbconvert_exporter": "python",
   "pygments_lexer": "ipython3",
   "version": "3.7.4"
  }
 },
 "nbformat": 4,
 "nbformat_minor": 2
}
