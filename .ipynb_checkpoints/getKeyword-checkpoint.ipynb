{
 "cells": [
  {
   "cell_type": "code",
   "execution_count": 38,
   "metadata": {
    "scrolled": false
   },
   "outputs": [
    {
     "name": "stdout",
     "output_type": "stream",
     "text": [
      "['마이크로의료로봇', '실증지원', '실증지원사업', '수혜기업', '산업화', '초기단계의', '마이크로의료로봇', '산업', '경쟁력', '강화를', '마이크로의료로봇', '제품화', '성장기반을', '마이크로', '의료기기', '로봇산업분야', '관련', '중견기업', '천원']\n"
     ]
    }
   ],
   "source": [
    "import xml.etree.ElementTree as elemTree\n",
    "import re\n",
    "from collections import Counter\n",
    "import collections\n",
    "import operator\n",
    "import copy\n",
    "\n",
    "tree = elemTree.parse('./bizinfodata.xml')\n",
    "root = tree.find('./database')\n",
    "count = 0\n",
    "wordsList = []\n",
    "\n",
    "#지원사업 공고문에서 띄워쓰기로 문장 구분하기\n",
    "p = re.compile('[가-힣]{2,}')\n",
    "\n",
    "compareList = []\n",
    "\n",
    "for table in root:\n",
    "    compareList.extend(p.findall(table[1].text))\n",
    "    compareList.extend(p.findall(table[2].text))\n",
    "    \n",
    "#모든 키워드에서 공통적으로 나오는 단어들 추출\n",
    "compareList = dict(Counter(compareList).most_common(20))\n",
    "\n",
    "for table in root:\n",
    "    wordsList.insert(count, p.findall(table[1].text))\n",
    "    wordsList[count].extend(p.findall(table[2].text))\n",
    "    temp = copy.deepcopy(wordsList[count])\n",
    "    for item in temp:\n",
    "        for compWord in compareList:\n",
    "            if(compWord == item):\n",
    "                del wordsList[count][wordsList[count].index(compWord)]\n",
    "    count += 1\n",
    "\n",
    "print(wordsList[0])\n",
    "keywords= ['청년', '시스템', '인재', '문화', '혁신', '동반성장', \n",
    "           '맞춤', '생산', '예비', '환경기술', '마케팅', '품질', \n",
    "           '경쟁력', '공유', '발명', '시설', '개선', '자금', '특허', \n",
    "           '박람회', '서비스', '연구', '홍보', '아이디어', '게임', \n",
    "           '관내', '기금', '골목', '영세', '체험', '채용', '안정', \n",
    "           '공장', '투자', '스타트업', '제조', '기술', '수출', \n",
    "           '신용카드', '교육', '프린팅', '융합', '훈련', '보험료', \n",
    "           '선도', '장비', '클러스터', '일자리', '경제', '콘텐츠', \n",
    "           '홈쇼핑', '융자', '점포', '신기술', '인건비', '브랜드', \n",
    "           '소재', '산업', '식품', '개발', '컨설팅', '가맹', '상점', \n",
    "           '고용', '육성', '인증', '제품', '협력', '자동차', '패키지', \n",
    "           '바이오', '모델', '해외', '부품', '시니어', '로봇', '시장', \n",
    "           '에너지', '입지', '신규']\n",
    "matchKeyword = []\n",
    "count = 0\n",
    "\n",
    "#공고문에서 키워드만 추출하기\n",
    "# for words in wordsList:\n",
    "#     tempWords = []\n",
    "#     for keyword in keywords:\n",
    "#         if(keyword in words):\n",
    "#             tempWords.append(keyword)\n",
    "#     matchKeyword.insert(count, tempWords)\n",
    "#     count += 1"
   ]
  },
  {
   "cell_type": "code",
   "execution_count": 39,
   "metadata": {
    "scrolled": true
   },
   "outputs": [
    {
     "name": "stdout",
     "output_type": "stream",
     "text": [
      "[('기술', 225), ('제품', 73), ('연관', 53), ('후방', 52), ('관련', 44), ('소재한', 43)]\n"
     ]
    }
   ],
   "source": [
    "wordsMatchKeywords = []\n",
    "count = 0\n",
    "\n",
    "#키워드별 단어 추출\n",
    "for keyword in keywords:\n",
    "    tempWords = []\n",
    "    for words in wordsList:\n",
    "        if(keyword in words):\n",
    "            tempWords.extend(words)\n",
    "    wordsMatchKeywords.insert(count, tempWords)\n",
    "    count += 1\n",
    "\n",
    "count = 0\n",
    "\n",
    "#단어 빈도수 추출\n",
    "for wordsMatchKeyword in wordsMatchKeywords:\n",
    "    wordsMatchKeywords[count] = dict(Counter(wordsMatchKeyword).most_common(6))\n",
    "    wordsMatchKeywords[count] = sorted(wordsMatchKeywords[count].items(), key=operator.itemgetter(1), reverse=True)\n",
    "    count += 1\n",
    "\n",
    "#비슷한 단어들 빈도수 추가작업\n",
    "for wordsMatchKeyword in wordsMatchKeywords:\n",
    "    for key in wordsMatchKeyword:\n",
    "        for item in wordsMatchKeyword:\n",
    "            if(key in item):\n",
    "                wordsMatchKeyword[key] += 1\n",
    "\n",
    "count = 0\n",
    "keywordWords = {}\n",
    "\n",
    "#키워드와 빈도수 높은 단어들 묶기\n",
    "for keyword in keywords:\n",
    "    keywordWords[keyword] = wordsMatchKeywords[count]\n",
    "    count += 1\n",
    "    \n",
    "print(keywordWords['기술'])"
   ]
  },
  {
   "cell_type": "code",
   "execution_count": null,
   "metadata": {},
   "outputs": [],
   "source": []
  },
  {
   "cell_type": "code",
   "execution_count": null,
   "metadata": {},
   "outputs": [],
   "source": []
  },
  {
   "cell_type": "code",
   "execution_count": null,
   "metadata": {},
   "outputs": [],
   "source": []
  },
  {
   "cell_type": "code",
   "execution_count": null,
   "metadata": {},
   "outputs": [],
   "source": []
  }
 ],
 "metadata": {
  "kernelspec": {
   "display_name": "Python 3",
   "language": "python",
   "name": "python3"
  },
  "language_info": {
   "codemirror_mode": {
    "name": "ipython",
    "version": 3
   },
   "file_extension": ".py",
   "mimetype": "text/x-python",
   "name": "python",
   "nbconvert_exporter": "python",
   "pygments_lexer": "ipython3",
   "version": "3.7.4"
  }
 },
 "nbformat": 4,
 "nbformat_minor": 2
}
